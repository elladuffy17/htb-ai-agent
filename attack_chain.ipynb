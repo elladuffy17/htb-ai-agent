{
 "cells": [
  {
   "cell_type": "markdown",
   "metadata": {},
   "source": [
    "Imports and Setup"
   ]
  },
  {
   "cell_type": "code",
   "execution_count": null,
   "metadata": {},
   "outputs": [
    {
     "name": "stderr",
     "output_type": "stream",
     "text": [
      "2025-06-05 15:14:16,314 - INFO - Loading SSH Command Executor\n",
      "2025-06-05 15:14:16,318 - INFO - Loading HTB Attack Chain with LangChain\n"
     ]
    }
   ],
   "source": [
    "\"\"\"\n",
    "# HTB Attack Chain with LangChain\n",
    "**Author**: Ella Duffy  \n",
    "**Version**: 1.0.0  \n",
    "**Description**: Automates the attack chain for HTB challenges using LangChain.\n",
    "\"\"\"\n",
    "\n",
    "import logging\n",
    "import time\n",
    "from langchain.chains import SequentialChain, LLMChain\n",
    "from langchain.prompts import PromptTemplate\n",
    "from langchain_openai import OpenAI\n",
    "from langchain.schema.runnable import RunnablePassthrough, RunnableSequence, RunnableLambda\n",
    "from langchain.memory import ConversationBufferMemory\n",
    "from ssh_command_executor import Tools\n",
    "\n",
    "# Set up logging\n",
    "logging.basicConfig(\n",
    "    level=logging.INFO,\n",
    "    format='%(asctime)s - %(levelname)s - %(message)s',\n",
    "    handlers=[\n",
    "        logging.FileHandler('logs/attack_chain.log'),\n",
    "        logging.StreamHandler()\n",
    "    ]\n",
    ")\n",
    "logger = logging.getLogger(__name__)\n",
    "\n",
    "logger.info(\"Loading HTB Attack Chain with LangChain\")\n",
    "\n",
    "# Initialize LLM\n",
    "llm = OpenAI(model_name=\"gpt-4o-mini\", temperature=0)\n",
    "\n",
    "#Initialize memory\n",
    "memory = ConversationBufferMemory\n",
    "\n",
    "# Initialize Tools\n",
    "tools = Tools(memory=memory)"
   ]
  },
  {
   "cell_type": "markdown",
   "metadata": {},
   "source": [
    "Define Chains"
   ]
  },
  {
   "cell_type": "code",
   "execution_count": 2,
   "metadata": {},
   "outputs": [],
   "source": [
    "# Port Scanning Chain\n",
    "port_scan_prompt = PromptTemplate(\n",
    "    input_variables=[\"target\"],\n",
    "    template=\"Scan ports on target {target} and return a dictionary of open ports and services.\"\n",
    ")\n",
    "#port_scan_chain = LLMChain(\n",
    "#    llm=llm,\n",
    "#    prompt=port_scan_prompt,\n",
    "#    output_key=\"port_scan_output\",\n",
    "#    verbose=True\n",
    "#)\n",
    "\n",
    "#Use LangChain Expression Language instead\n",
    "port_scan_chain = port_scan_prompt | llm\n",
    "\n",
    "# User Enumeration Chain\n",
    "user_enum_prompt = PromptTemplate(\n",
    "    input_variables=[\"target\", \"port_scan_output\"],\n",
    "    template=\"Enumerate users on target {target} if finger service (port 79) is detected in {port_scan_output}.\"\n",
    ")\n",
    "#user_enum_chain = LLMChain(\n",
    "#    llm=llm,\n",
    "#    prompt=user_enum_prompt,\n",
    "#    output_key=\"user_enum_output\",\n",
    "#    verbose=True\n",
    "#)\n",
    "user_enum_chain = {\"target\": RunnablePassthrough(), \"port_scan_output\": lambda x: x[\"port_scan_output\"]} | user_enum_prompt | llm"
   ]
  },
  {
   "cell_type": "markdown",
   "metadata": {},
   "source": [
    "Execution Functions"
   ]
  },
  {
   "cell_type": "code",
   "execution_count": 3,
   "metadata": {},
   "outputs": [],
   "source": [
    "# Cell 3: Execution Functions\n",
    "def execute_port_scan(inputs):\n",
    "    target = inputs[\"target\"]\n",
    "    host = inputs[\"host\"]\n",
    "    username = inputs[\"username\"]\n",
    "    logger.info(f\"Executing port scan on {target}\")\n",
    "    ports = tools.scan_ports(host, username, target)\n",
    "    return {**inputs, \"port_scan_output\": ports}\n",
    "\n",
    "def execute_user_enum(inputs):\n",
    "    target = inputs[\"target\"]\n",
    "    host = inputs[\"host\"]\n",
    "    username = inputs[\"username\"]\n",
    "    port_scan_output = inputs[\"port_scan_output\"]\n",
    "    logger.info(f\"Executing user enumeration on {target}\")\n",
    "    if \"79\" in port_scan_output:\n",
    "        users = tools.enumerate_users(host, username, target)\n",
    "        return {**inputs, \"user_enum_output\": users}\n",
    "    else:\n",
    "        logger.warning(\"Finger service not detected; skipping user enumeration\")\n",
    "        return {**inputs, \"user_enum_output\": []}"
   ]
  },
  {
   "cell_type": "markdown",
   "metadata": {},
   "source": [
    "Define the runnable sequence"
   ]
  },
  {
   "cell_type": "code",
   "execution_count": 4,
   "metadata": {},
   "outputs": [],
   "source": [
    "attack_chain = (\n",
    "    RunnableLambda(lambda inputs: execute_port_scan(inputs))\n",
    "    | RunnableLambda(lambda inputs: execute_user_enum(inputs))\n",
    ").with_config(verbose=True)\n",
    "\n",
    "def run_attack_chain(host, username, target):\n",
    "    logger.info(f\"Starting attack chain on {target} via {host}\")\n",
    "    inputs = {\n",
    "        \"target\": target,\n",
    "        \"host\": host,\n",
    "        \"username\": username\n",
    "    }\n",
    "    result = attack_chain.invoke(inputs)\n",
    "    logger.info(f\"Attack chain completed: {result}\")\n",
    "    return result"
   ]
  },
  {
   "cell_type": "code",
   "execution_count": 5,
   "metadata": {},
   "outputs": [
    {
     "name": "stderr",
     "output_type": "stream",
     "text": [
      "2025-06-05 15:14:16,819 - INFO - Starting attack chain on 10.10.10.76 via 10.0.0.215\n",
      "2025-06-05 15:14:16,836 - INFO - Executing port scan on 10.10.10.76\n",
      "2025-06-05 15:14:16,837 - INFO - Scanning open ports on 10.10.10.76\n",
      "2025-06-05 15:14:16,840 - INFO - Connecting to 10.0.0.215 as user\n",
      "2025-06-05 15:14:16,952 - INFO - Connected (version 2.0, client OpenSSH_9.2p1)\n",
      "2025-06-05 15:14:17,265 - INFO - Authentication (publickey) successful!\n",
      "2025-06-05 15:14:17,267 - INFO - Executing command: PATH=$PATH:/sbin:/usr/sbin nmap -p1-1000,22022 10.10.10.76 --max-retries 2 -Pn --max-rate 50 --open\n",
      "2025-06-05 15:14:40,936 - INFO - Command output:\n",
      " Starting Nmap 7.94SVN ( https://nmap.org ) at 2025-06-05 19:12 UTC\n",
      "Nmap scan report for 10.10.10.76\n",
      "Host is up (0.066s latency).\n",
      "Not shown: 880 closed tcp ports (conn-refused), 117 filtered tcp ports (no-response)\n",
      "Some closed ports may be reported as filtered due to --defeat-rst-ratelimit\n",
      "PORT      STATE SERVICE\n",
      "79/tcp    open  finger\n",
      "111/tcp   open  rpcbind\n",
      "515/tcp   open  printer\n",
      "22022/tcp open  unknown\n",
      "\n",
      "Nmap done: 1 IP address (1 host up) scanned in 23.31 seconds\n",
      "\n",
      "2025-06-05 15:14:40,939 - INFO - Scanned ports: {'79': 'finger', '111': 'rpcbind', '515': 'printer', '22022': 'unknown'}\n",
      "2025-06-05 15:14:40,942 - INFO - Executing user enumeration on 10.10.10.76\n",
      "2025-06-05 15:14:40,945 - INFO - Enumerating users on 10.10.10.76 with wordlist /usr/share/seclists/Usernames/Names/names.txt\n",
      "2025-06-05 15:14:40,946 - INFO - Connecting to 10.0.0.215 as user\n",
      "2025-06-05 15:14:40,986 - INFO - Connected (version 2.0, client OpenSSH_9.2p1)\n",
      "2025-06-05 15:14:41,303 - INFO - Authentication (publickey) successful!\n",
      "2025-06-05 15:14:41,304 - INFO - Executing command: PATH=$PATH:/sbin:/usr/sbin finger-user-enum -U /usr/share/seclists/Usernames/Names/names.txt -t 10.10.10.76\n",
      "2025-06-05 15:20:21,657 - INFO - Command output:\n",
      " Starting finger-user-enum v1.0 ( http://pentestmonkey.net/tools/finger-user-enum )\n",
      "\n",
      " ----------------------------------------------------------\n",
      "|                   Scan Information                       |\n",
      " ----------------------------------------------------------\n",
      "\n",
      "Worker Processes ......... 5\n",
      "Usernames file ........... /usr/share/seclists/Usernames/Names/names.txt\n",
      "Target count ............. 1\n",
      "Username count ........... 10177\n",
      "Target TCP port .......... 79\n",
      "Query timeout ............ 5 secs\n",
      "Relay Server ............. Not used\n",
      "\n",
      "######## Scan started at Thu Jun  5 19:12:47 2025 #########\n",
      "access@10.10.10.76: access No Access User                     < .  .  .  . >..nobody4  SunOS 4.x NFS Anonym               < .  .  .  . >..\n",
      "admin@10.10.10.76: Login       Name               TTY         Idle    When    Where..adm      Admin                              < .  .  .  . >..dladm    Datalink Admin                     < .  .  .  . >..netadm   Network Admin                      < .  .  .  . >..netcfg   Network Configuratio               < .  .  .  . >..dhcpserv DHCP Configuration A               < .  .  .  . >..ikeuser  IKE Admin                          < .  .  .  . >..lp       Line Printer Admin                 < .  .  .  . >..\n",
      "anne marie@10.10.10.76: Login       Name               TTY         Idle    When    Where..anne                  ???..marie                 ???..\n",
      "bin@10.10.10.76: bin             ???                         < .  .  .  . >..\n",
      "dee dee@10.10.10.76: Login       Name               TTY         Idle    When    Where..dee                   ???..dee                   ???..\n",
      "ike@10.10.10.76: ikeuser  IKE Admin                          < .  .  .  . >..\n",
      "jo ann@10.10.10.76: Login       Name               TTY         Idle    When    Where..ann                   ???..jo                    ???..\n",
      "la verne@10.10.10.76: Login       Name               TTY         Idle    When    Where..la                    ???..verne                 ???..\n",
      "line@10.10.10.76: Login       Name               TTY         Idle    When    Where..lp       Line Printer Admin                 < .  .  .  . >..\n",
      "message@10.10.10.76: Login       Name               TTY         Idle    When    Where..smmsp    SendMail Message Sub               < .  .  .  . >..\n",
      "miof mela@10.10.10.76: Login       Name               TTY         Idle    When    Where..mela                  ???..miof                  ???..\n",
      "root@10.10.10.76: root     Super-User            ssh          <Dec  7, 2023> 10.10.14.46         ..\n",
      "sammy@10.10.10.76: sammy           ???            ssh          <May  6 07:35> 10.10.14.68         ..\n",
      "sunny@10.10.10.76: sunny           ???            ssh          <Apr 13, 2022> 10.10.14.13         ..\n",
      "sys@10.10.10.76: sys             ???                         < .  .  .  . >..\n",
      "zsa zsa@10.10.10.76: Login       Name               TTY         Idle    When    Where..zsa                   ???..zsa                   ???..\n",
      "######## Scan completed at Thu Jun  5 19:18:25 2025 #########\n",
      "16 results.\n",
      "\n",
      "10177 queries in 338 seconds (30.1 queries / sec)\n",
      "\n",
      "2025-06-05 15:20:21,666 - INFO - Refined SSH users: ['sammy', 'sunny']\n",
      "2025-06-05 15:20:21,669 - INFO - Attack chain completed: {'target': '10.10.10.76', 'host': '10.0.0.215', 'username': 'user', 'port_scan_output': {'79': 'finger', '111': 'rpcbind', '515': 'printer', '22022': 'unknown'}, 'user_enum_output': ['sammy', 'sunny']}\n"
     ]
    },
    {
     "name": "stdout",
     "output_type": "stream",
     "text": [
      "Final result: {'target': '10.10.10.76', 'host': '10.0.0.215', 'username': 'user', 'port_scan_output': {'79': 'finger', '111': 'rpcbind', '515': 'printer', '22022': 'unknown'}, 'user_enum_output': ['sammy', 'sunny']}\n"
     ]
    }
   ],
   "source": [
    "if __name__ == \"__main__\":\n",
    "    # Run the chain\n",
    "    host = \"10.0.0.215\"\n",
    "    username = \"user\"\n",
    "    target = \"10.10.10.76\"\n",
    "    result = run_attack_chain(host, username, target)\n",
    "    print(\"Final result:\", result)"
   ]
  }
 ],
 "metadata": {
  "kernelspec": {
   "display_name": "Python 3",
   "language": "python",
   "name": "python3"
  },
  "language_info": {
   "codemirror_mode": {
    "name": "ipython",
    "version": 3
   },
   "file_extension": ".py",
   "mimetype": "text/x-python",
   "name": "python",
   "nbconvert_exporter": "python",
   "pygments_lexer": "ipython3",
   "version": "3.8.7"
  }
 },
 "nbformat": 4,
 "nbformat_minor": 2
}
